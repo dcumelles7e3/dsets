{
  "nbformat": 4,
  "nbformat_minor": 0,
  "metadata": {
    "colab": {
      "name": "Didac_ANN_Regressio.ipynb",
      "provenance": [],
      "collapsed_sections": [],
      "authorship_tag": "ABX9TyNOKu3pAQKXqh1yrpXN9ZAo"
    },
    "kernelspec": {
      "name": "python3",
      "display_name": "Python 3"
    }
  },
  "cells": [
    {
      "cell_type": "markdown",
      "metadata": {
        "id": "tb3s2WSRhyxS"
      },
      "source": [
        "# Regressió amb Xarxes Neuronals (ANN)\r\n",
        "La idea d'utilitzar aquest dataset ha sorgit degut a que un amic meu ha fet un  model de regressió a mà (utilitzant numpy per a multiplicar vectors i matrius) per a calcular el preu d'un apartament de lloguer segons la quantitat d'habitacions, banys, metres quadrats i districte. El dataset l'ha extret utilitzant WebScraper i ha obtingut unes 15000 mostres. <br>\r\n",
        "He aprofitat que ha formatejat el dataset. L'única modificació que he fet ha sigut en relació amb el districte, que està en format \"bucketized\" (totes les columnes són un 0 menys el districte corresponent que és un 1) excepte que ell tracta quan tots són 0 correspon a Sarrià, així que he afegit una columna extra assignant-li el 1 corresponent. <br>\r\n",
        "Enllaç al seu repositori: https://github.com/aayzaa/barcelona_rental_prices_predictor"
      ]
    },
    {
      "cell_type": "code",
      "metadata": {
        "colab": {
          "base_uri": "https://localhost:8080/"
        },
        "id": "BuTlU-XJdvEJ",
        "outputId": "b78f74d9-1eee-4637-8deb-644007ecd606"
      },
      "source": [
        "!pip install -U tensorflow-addons\r\n",
        "\r\n",
        "import pandas as pd\r\n",
        "\r\n",
        "try:\r\n",
        "    from urllib.request import Request, urlopen  # Python 3\r\n",
        "except ImportError:\r\n",
        "    from urllib2 import Request, urlopen  # Python 2\r\n",
        "\r\n",
        "url = \"https://raw.githubusercontent.com/dcumelles7e3/dsets/main/barcelona_apartments.csv\"\r\n",
        "\r\n",
        "req = Request(url)\r\n",
        "req.add_header('User-Agent', 'Mozilla/5.0 (X11; Ubuntu; Linux x86_64; rv:77.0) Gecko/20100101 Firefox/77.0')\r\n",
        "content = urlopen(req)\r\n",
        "\r\n",
        "data = pd.read_csv(content)\r\n",
        "print(data.head())\r\n",
        "print(data.shape)"
      ],
      "execution_count": null,
      "outputs": [
        {
          "output_type": "stream",
          "text": [
            "Collecting tensorflow-addons\n",
            "\u001b[?25l  Downloading https://files.pythonhosted.org/packages/74/e3/56d2fe76f0bb7c88ed9b2a6a557e25e83e252aec08f13de34369cd850a0b/tensorflow_addons-0.12.1-cp37-cp37m-manylinux2010_x86_64.whl (703kB)\n",
            "\u001b[K     |████████████████████████████████| 706kB 4.1MB/s \n",
            "\u001b[?25hRequirement already satisfied, skipping upgrade: typeguard>=2.7 in /usr/local/lib/python3.7/dist-packages (from tensorflow-addons) (2.7.1)\n",
            "Installing collected packages: tensorflow-addons\n",
            "Successfully installed tensorflow-addons-0.12.1\n",
            "   price  rooms  bathrooms  ...  sant_marti  sants_montjuic  sarria\n",
            "0   1250      2          2  ...           0               0       0\n",
            "1   1450      3          1  ...           0               0       0\n",
            "2    800      2          1  ...           0               0       0\n",
            "3   1050      3          1  ...           0               0       0\n",
            "4   1375      2          1  ...           0               0       1\n",
            "\n",
            "[5 rows x 14 columns]\n",
            "(14859, 14)\n"
          ],
          "name": "stdout"
        }
      ]
    },
    {
      "cell_type": "markdown",
      "metadata": {
        "id": "__8HRufZRjzT"
      },
      "source": [
        "# Preparar les dades de Test i Train\r\n",
        "Fem una llista amb les categories per a millor visualització.\r\n"
      ]
    },
    {
      "cell_type": "code",
      "metadata": {
        "colab": {
          "base_uri": "https://localhost:8080/"
        },
        "id": "kw_IxwZDSxKr",
        "outputId": "43b1c06e-4b0a-45a5-afb2-16026266c698"
      },
      "source": [
        "districts = [\"eixample\", \"ciutat_vella\", \"horta_guinardo\", \"gracia\", \"les_corts\", \"nou_barris\", \"sant_andreu\",\r\n",
        "             \"sant_marti\", \"sants_montjuic\", \"sarria\"]\r\n",
        "features = [\"rooms\", \"bathrooms\", \"sizem2\"]\r\n",
        "feature_columns = []\r\n",
        "for feature in features:\r\n",
        "    feature_columns.append(feature)\r\n",
        "\r\n",
        "for district in districts:\r\n",
        "    feature_columns.append(district)\r\n",
        "\r\n",
        "print(feature_columns)"
      ],
      "execution_count": null,
      "outputs": [
        {
          "output_type": "stream",
          "text": [
            "['rooms', 'bathrooms', 'sizem2', 'eixample', 'ciutat_vella', 'horta_guinardo', 'gracia', 'les_corts', 'nou_barris', 'sant_andreu', 'sant_marti', 'sants_montjuic', 'sarria']\n"
          ],
          "name": "stdout"
        }
      ]
    },
    {
      "cell_type": "markdown",
      "metadata": {
        "id": "UKbS8Jm8LiQ7"
      },
      "source": [
        "Test i Train"
      ]
    },
    {
      "cell_type": "code",
      "metadata": {
        "id": "5CDfvVg4Lmz-"
      },
      "source": [
        "train = data.sample(frac=0.8, random_state=2021)\r\n",
        "test = data.drop(train.index)\r\n",
        "\r\n",
        "X_train = train.loc[:, feature_columns]\r\n",
        "X_test = test.loc[:, feature_columns]\r\n",
        "y_train = train[\"price\"]\r\n",
        "y_test = test[\"price\"]"
      ],
      "execution_count": null,
      "outputs": []
    },
    {
      "cell_type": "markdown",
      "metadata": {
        "id": "Nr4G-6fYLqbJ"
      },
      "source": [
        "He comprovat que obtinc millor resultat si normalitzo les dades: 0.58 sense normalitzar // 0.60 normalitzant."
      ]
    },
    {
      "cell_type": "code",
      "metadata": {
        "id": "Dr3uGDLfMHmo"
      },
      "source": [
        "import numpy as np\r\n",
        "import tensorflow as tf\r\n",
        "import tensorflow_addons as tfa\r\n",
        "import tensorflow.keras as keras\r\n",
        "\r\n",
        "normalizer = keras.layers.experimental.preprocessing.Normalization()\r\n",
        "normalizer.adapt(np.array(X_train))"
      ],
      "execution_count": null,
      "outputs": []
    },
    {
      "cell_type": "markdown",
      "metadata": {
        "id": "az4PhwkFe0N4"
      },
      "source": [
        "# Preparar el model\r\n",
        "A l'hora de preparar el model hem d'escollir la quantitat de capes ocultes i les seves funcions d'activació, la última capa sent la funció de regressió RSquare del Tensorflow Addons.<br>\r\n",
        "\r\n",
        "\r\n",
        "Després de fer proves, he decidit que el learning rate de l'optimizer Adam ha de ser 0.001 i amb el loss \"mean_squared_error\" em dona 0.02 més que amb \"mean_absolute\".\r\n",
        "\r\n",
        "| Model | Score (*) Training | Score (*) Test |\r\n",
        "| - | :-: | :-: |\r\n",
        "| <li>2x Dense 128</li> | 0.64 | 0.61 |\r\n",
        "| <li>2x Dense 256</li> | 0.62 | 0.59 |\r\n",
        "| <li>1x Dense 64</li><li>2x Dense 128</li> | 0.64 | 0.62 |\r\n",
        "\r\n",
        "\r\n"
      ]
    },
    {
      "cell_type": "code",
      "metadata": {
        "id": "6UvUob-ie9DH",
        "colab": {
          "base_uri": "https://localhost:8080/"
        },
        "outputId": "06722e91-58fc-412a-e35a-c944f691b973"
      },
      "source": [
        "model = tf.keras.models.Sequential()\r\n",
        "model.add(tf.keras.layers.Flatten())\r\n",
        "model.add(tf.keras.layers.Dense(128, activation=tf.nn.relu))\r\n",
        "model.add(tf.keras.layers.Dense(128, activation=tf.nn.relu))\r\n",
        "model.add(tf.keras.layers.Dense(1))\r\n",
        "\r\n",
        "model.compile(optimizer=tf.optimizers.Adam(learning_rate=0.001),\r\n",
        "              loss=\"mean_squared_error\",\r\n",
        "              metrics=tfa.metrics.RSquare(y_shape=(1,)))\r\n",
        "\r\n",
        "history = model.fit(X_train, y_train, epochs=100, validation_split=0.2)\r\n",
        "\r\n",
        "\r\n",
        "val_loss, val_acc = model.evaluate(X_train, y_train)\r\n",
        "print(val_loss, val_acc)\r\n",
        "val_loss, val_acc = model.evaluate(X_test, y_test)\r\n",
        "print(val_loss, val_acc)"
      ],
      "execution_count": null,
      "outputs": [
        {
          "output_type": "stream",
          "text": [
            "Epoch 1/100\n",
            "298/298 [==============================] - 2s 3ms/step - loss: 2041023.9055 - r_square: -0.6793 - val_loss: 451007.9062 - val_r_square: 0.5794\n",
            "Epoch 2/100\n",
            "298/298 [==============================] - 1s 2ms/step - loss: 420243.6128 - r_square: 0.5992 - val_loss: 450723.2500 - val_r_square: 0.5797\n",
            "Epoch 3/100\n",
            "298/298 [==============================] - 1s 2ms/step - loss: 401533.7792 - r_square: 0.5998 - val_loss: 453312.3125 - val_r_square: 0.5772\n",
            "Epoch 4/100\n",
            "298/298 [==============================] - 1s 2ms/step - loss: 396431.9560 - r_square: 0.6050 - val_loss: 446959.2812 - val_r_square: 0.5832\n",
            "Epoch 5/100\n",
            "298/298 [==============================] - 1s 2ms/step - loss: 415071.8164 - r_square: 0.6572 - val_loss: 445732.5938 - val_r_square: 0.5843\n",
            "Epoch 6/100\n",
            "298/298 [==============================] - 1s 2ms/step - loss: 406557.4416 - r_square: 0.6283 - val_loss: 445667.5938 - val_r_square: 0.5844\n",
            "Epoch 7/100\n",
            "298/298 [==============================] - 1s 2ms/step - loss: 379339.6360 - r_square: 0.6127 - val_loss: 468429.5000 - val_r_square: 0.5631\n",
            "Epoch 8/100\n",
            "298/298 [==============================] - 1s 2ms/step - loss: 404728.8499 - r_square: 0.6281 - val_loss: 443717.8438 - val_r_square: 0.5862\n",
            "Epoch 9/100\n",
            "298/298 [==============================] - 1s 2ms/step - loss: 433442.0122 - r_square: 0.6084 - val_loss: 446588.3125 - val_r_square: 0.5835\n",
            "Epoch 10/100\n",
            "298/298 [==============================] - 1s 2ms/step - loss: 406388.4169 - r_square: 0.5995 - val_loss: 440225.5625 - val_r_square: 0.5894\n",
            "Epoch 11/100\n",
            "298/298 [==============================] - 1s 2ms/step - loss: 409977.5488 - r_square: 0.6237 - val_loss: 439649.9688 - val_r_square: 0.5900\n",
            "Epoch 12/100\n",
            "298/298 [==============================] - 1s 2ms/step - loss: 394189.8659 - r_square: 0.6420 - val_loss: 441588.8438 - val_r_square: 0.5882\n",
            "Epoch 13/100\n",
            "298/298 [==============================] - 1s 2ms/step - loss: 373503.1189 - r_square: 0.6476 - val_loss: 437025.0625 - val_r_square: 0.5924\n",
            "Epoch 14/100\n",
            "298/298 [==============================] - 1s 2ms/step - loss: 420051.7883 - r_square: 0.6562 - val_loss: 437736.2812 - val_r_square: 0.5918\n",
            "Epoch 15/100\n",
            "298/298 [==============================] - 1s 2ms/step - loss: 418510.8343 - r_square: 0.6071 - val_loss: 435358.1250 - val_r_square: 0.5940\n",
            "Epoch 16/100\n",
            "298/298 [==============================] - 1s 2ms/step - loss: 393874.4601 - r_square: 0.6465 - val_loss: 434442.0000 - val_r_square: 0.5948\n",
            "Epoch 17/100\n",
            "298/298 [==============================] - 1s 2ms/step - loss: 407332.8297 - r_square: 0.6420 - val_loss: 434126.4688 - val_r_square: 0.5951\n",
            "Epoch 18/100\n",
            "298/298 [==============================] - 1s 2ms/step - loss: 398632.0083 - r_square: 0.6528 - val_loss: 432914.9062 - val_r_square: 0.5963\n",
            "Epoch 19/100\n",
            "298/298 [==============================] - 1s 2ms/step - loss: 375290.4608 - r_square: 0.6500 - val_loss: 432450.8125 - val_r_square: 0.5967\n",
            "Epoch 20/100\n",
            "298/298 [==============================] - 1s 2ms/step - loss: 405092.8652 - r_square: 0.6547 - val_loss: 431476.0938 - val_r_square: 0.5976\n",
            "Epoch 21/100\n",
            "298/298 [==============================] - 1s 2ms/step - loss: 409418.5296 - r_square: 0.6113 - val_loss: 431507.7812 - val_r_square: 0.5976\n",
            "Epoch 22/100\n",
            "298/298 [==============================] - 1s 2ms/step - loss: 424305.5501 - r_square: 0.6210 - val_loss: 431333.9062 - val_r_square: 0.5977\n",
            "Epoch 23/100\n",
            "298/298 [==============================] - 1s 2ms/step - loss: 386289.7882 - r_square: 0.6052 - val_loss: 431015.4375 - val_r_square: 0.5980\n",
            "Epoch 24/100\n",
            "298/298 [==============================] - 1s 2ms/step - loss: 480497.1543 - r_square: 0.6343 - val_loss: 432881.8125 - val_r_square: 0.5963\n",
            "Epoch 25/100\n",
            "298/298 [==============================] - 1s 2ms/step - loss: 407934.8665 - r_square: 0.6508 - val_loss: 428076.2500 - val_r_square: 0.6008\n",
            "Epoch 26/100\n",
            "298/298 [==============================] - 1s 2ms/step - loss: 390960.4837 - r_square: 0.6294 - val_loss: 428391.5312 - val_r_square: 0.6005\n",
            "Epoch 27/100\n",
            "298/298 [==============================] - 1s 2ms/step - loss: 388063.7008 - r_square: 0.6539 - val_loss: 429325.6875 - val_r_square: 0.5996\n",
            "Epoch 28/100\n",
            "298/298 [==============================] - 1s 2ms/step - loss: 411424.9288 - r_square: 0.6142 - val_loss: 427755.0000 - val_r_square: 0.6011\n",
            "Epoch 29/100\n",
            "298/298 [==============================] - 1s 2ms/step - loss: 357649.3194 - r_square: 0.6206 - val_loss: 426705.1562 - val_r_square: 0.6021\n",
            "Epoch 30/100\n",
            "298/298 [==============================] - 1s 2ms/step - loss: 355355.5574 - r_square: 0.6527 - val_loss: 425962.4375 - val_r_square: 0.6027\n",
            "Epoch 31/100\n",
            "298/298 [==============================] - 1s 2ms/step - loss: 362727.1631 - r_square: 0.6761 - val_loss: 425601.3438 - val_r_square: 0.6031\n",
            "Epoch 32/100\n",
            "298/298 [==============================] - 1s 2ms/step - loss: 403336.3455 - r_square: 0.6573 - val_loss: 425786.2500 - val_r_square: 0.6029\n",
            "Epoch 33/100\n",
            "298/298 [==============================] - 1s 2ms/step - loss: 417926.2655 - r_square: 0.6621 - val_loss: 425168.4375 - val_r_square: 0.6035\n",
            "Epoch 34/100\n",
            "298/298 [==============================] - 1s 2ms/step - loss: 385687.2701 - r_square: 0.6335 - val_loss: 423890.0625 - val_r_square: 0.6047\n",
            "Epoch 35/100\n",
            "298/298 [==============================] - 1s 2ms/step - loss: 370034.8387 - r_square: 0.6360 - val_loss: 423823.9375 - val_r_square: 0.6047\n",
            "Epoch 36/100\n",
            "298/298 [==============================] - 1s 2ms/step - loss: 409089.2429 - r_square: 0.6695 - val_loss: 426055.3125 - val_r_square: 0.6027\n",
            "Epoch 37/100\n",
            "298/298 [==============================] - 1s 2ms/step - loss: 408748.8673 - r_square: 0.6355 - val_loss: 428369.4375 - val_r_square: 0.6005\n",
            "Epoch 38/100\n",
            "298/298 [==============================] - 1s 2ms/step - loss: 373489.1685 - r_square: 0.6522 - val_loss: 426864.3750 - val_r_square: 0.6019\n",
            "Epoch 39/100\n",
            "298/298 [==============================] - 1s 2ms/step - loss: 390136.4493 - r_square: 0.6162 - val_loss: 422387.3125 - val_r_square: 0.6061\n",
            "Epoch 40/100\n",
            "298/298 [==============================] - 1s 2ms/step - loss: 384625.7590 - r_square: 0.6731 - val_loss: 422820.0000 - val_r_square: 0.6057\n",
            "Epoch 41/100\n",
            "298/298 [==============================] - 1s 2ms/step - loss: 419452.8467 - r_square: 0.6603 - val_loss: 422017.7812 - val_r_square: 0.6064\n",
            "Epoch 42/100\n",
            "298/298 [==============================] - 1s 2ms/step - loss: 403048.2240 - r_square: 0.6009 - val_loss: 422967.2188 - val_r_square: 0.6055\n",
            "Epoch 43/100\n",
            "298/298 [==============================] - 1s 2ms/step - loss: 400928.5270 - r_square: 0.6164 - val_loss: 427403.3438 - val_r_square: 0.6014\n",
            "Epoch 44/100\n",
            "298/298 [==============================] - 1s 2ms/step - loss: 391421.4846 - r_square: 0.6460 - val_loss: 426869.0000 - val_r_square: 0.6019\n",
            "Epoch 45/100\n",
            "298/298 [==============================] - 1s 2ms/step - loss: 417613.5825 - r_square: 0.6339 - val_loss: 421631.7500 - val_r_square: 0.6068\n",
            "Epoch 46/100\n",
            "298/298 [==============================] - 1s 2ms/step - loss: 410162.5712 - r_square: 0.6477 - val_loss: 422648.8750 - val_r_square: 0.6058\n",
            "Epoch 47/100\n",
            "298/298 [==============================] - 1s 2ms/step - loss: 379659.4750 - r_square: 0.6397 - val_loss: 421567.9062 - val_r_square: 0.6068\n",
            "Epoch 48/100\n",
            "298/298 [==============================] - 1s 2ms/step - loss: 381730.1361 - r_square: 0.6413 - val_loss: 422646.6562 - val_r_square: 0.6058\n",
            "Epoch 49/100\n",
            "298/298 [==============================] - 1s 2ms/step - loss: 373973.2556 - r_square: 0.6351 - val_loss: 426343.4062 - val_r_square: 0.6024\n",
            "Epoch 50/100\n",
            "298/298 [==============================] - 1s 2ms/step - loss: 380675.6090 - r_square: 0.6485 - val_loss: 420371.7812 - val_r_square: 0.6080\n",
            "Epoch 51/100\n",
            "298/298 [==============================] - 1s 2ms/step - loss: 340077.8260 - r_square: 0.6366 - val_loss: 421064.2500 - val_r_square: 0.6073\n",
            "Epoch 52/100\n",
            "298/298 [==============================] - 1s 2ms/step - loss: 379890.6102 - r_square: 0.6015 - val_loss: 424094.7500 - val_r_square: 0.6045\n",
            "Epoch 53/100\n",
            "298/298 [==============================] - 1s 2ms/step - loss: 373603.7274 - r_square: 0.6119 - val_loss: 437944.0000 - val_r_square: 0.5916\n",
            "Epoch 54/100\n",
            "298/298 [==============================] - 1s 2ms/step - loss: 375147.2937 - r_square: 0.6289 - val_loss: 429897.4062 - val_r_square: 0.5991\n",
            "Epoch 55/100\n",
            "298/298 [==============================] - 1s 2ms/step - loss: 361229.5293 - r_square: 0.6262 - val_loss: 428292.7812 - val_r_square: 0.6006\n",
            "Epoch 56/100\n",
            "298/298 [==============================] - 1s 2ms/step - loss: 399813.1832 - r_square: 0.6707 - val_loss: 419807.7188 - val_r_square: 0.6085\n",
            "Epoch 57/100\n",
            "298/298 [==============================] - 1s 2ms/step - loss: 428671.5196 - r_square: 0.6338 - val_loss: 426124.1250 - val_r_square: 0.6026\n",
            "Epoch 58/100\n",
            "298/298 [==============================] - 1s 2ms/step - loss: 371000.1506 - r_square: 0.6042 - val_loss: 421569.5938 - val_r_square: 0.6068\n",
            "Epoch 59/100\n",
            "298/298 [==============================] - 1s 2ms/step - loss: 359613.3870 - r_square: 0.6593 - val_loss: 420838.5625 - val_r_square: 0.6075\n",
            "Epoch 60/100\n",
            "298/298 [==============================] - 1s 2ms/step - loss: 430328.0021 - r_square: 0.6331 - val_loss: 419912.9062 - val_r_square: 0.6084\n",
            "Epoch 61/100\n",
            "298/298 [==============================] - 1s 2ms/step - loss: 385173.0385 - r_square: 0.5913 - val_loss: 420348.6875 - val_r_square: 0.6080\n",
            "Epoch 62/100\n",
            "298/298 [==============================] - 1s 2ms/step - loss: 367324.0748 - r_square: 0.6353 - val_loss: 423930.8750 - val_r_square: 0.6046\n",
            "Epoch 63/100\n",
            "298/298 [==============================] - 1s 2ms/step - loss: 371068.5202 - r_square: 0.6564 - val_loss: 420787.3125 - val_r_square: 0.6076\n",
            "Epoch 64/100\n",
            "298/298 [==============================] - 1s 2ms/step - loss: 412197.7092 - r_square: 0.6464 - val_loss: 418886.2812 - val_r_square: 0.6093\n",
            "Epoch 65/100\n",
            "298/298 [==============================] - 1s 2ms/step - loss: 382102.3575 - r_square: 0.6605 - val_loss: 423066.6250 - val_r_square: 0.6054\n",
            "Epoch 66/100\n",
            "298/298 [==============================] - 1s 2ms/step - loss: 427677.8478 - r_square: 0.6146 - val_loss: 420565.9688 - val_r_square: 0.6078\n",
            "Epoch 67/100\n",
            "298/298 [==============================] - 1s 2ms/step - loss: 381830.3858 - r_square: 0.6333 - val_loss: 418844.5312 - val_r_square: 0.6094\n",
            "Epoch 68/100\n",
            "298/298 [==============================] - 1s 2ms/step - loss: 409399.4000 - r_square: 0.6427 - val_loss: 422279.5000 - val_r_square: 0.6062\n",
            "Epoch 69/100\n",
            "298/298 [==============================] - 1s 2ms/step - loss: 387268.9550 - r_square: 0.6554 - val_loss: 419700.7500 - val_r_square: 0.6086\n",
            "Epoch 70/100\n",
            "298/298 [==============================] - 1s 2ms/step - loss: 414959.4149 - r_square: 0.6333 - val_loss: 418269.3750 - val_r_square: 0.6099\n",
            "Epoch 71/100\n",
            "298/298 [==============================] - 1s 2ms/step - loss: 381332.0358 - r_square: 0.6518 - val_loss: 420516.6875 - val_r_square: 0.6078\n",
            "Epoch 72/100\n",
            "298/298 [==============================] - 1s 2ms/step - loss: 372267.7305 - r_square: 0.6681 - val_loss: 418527.0000 - val_r_square: 0.6097\n",
            "Epoch 73/100\n",
            "298/298 [==============================] - 1s 2ms/step - loss: 401992.2547 - r_square: 0.6329 - val_loss: 419007.0312 - val_r_square: 0.6092\n",
            "Epoch 74/100\n",
            "298/298 [==============================] - 1s 2ms/step - loss: 381966.5341 - r_square: 0.6278 - val_loss: 417940.1875 - val_r_square: 0.6102\n",
            "Epoch 75/100\n",
            "298/298 [==============================] - 1s 2ms/step - loss: 380132.6525 - r_square: 0.6617 - val_loss: 417902.0625 - val_r_square: 0.6103\n",
            "Epoch 76/100\n",
            "298/298 [==============================] - 1s 2ms/step - loss: 352244.9030 - r_square: 0.6441 - val_loss: 426187.6562 - val_r_square: 0.6025\n",
            "Epoch 77/100\n",
            "298/298 [==============================] - 1s 2ms/step - loss: 403505.8110 - r_square: 0.6289 - val_loss: 417952.0312 - val_r_square: 0.6102\n",
            "Epoch 78/100\n",
            "298/298 [==============================] - 1s 2ms/step - loss: 381013.5681 - r_square: 0.6388 - val_loss: 441477.5625 - val_r_square: 0.5883\n",
            "Epoch 79/100\n",
            "298/298 [==============================] - 1s 2ms/step - loss: 381980.9068 - r_square: 0.6318 - val_loss: 418125.8438 - val_r_square: 0.6101\n",
            "Epoch 80/100\n",
            "298/298 [==============================] - 1s 2ms/step - loss: 365299.1746 - r_square: 0.6506 - val_loss: 420543.0938 - val_r_square: 0.6078\n",
            "Epoch 81/100\n",
            "298/298 [==============================] - 1s 2ms/step - loss: 383624.5098 - r_square: 0.6576 - val_loss: 417310.5000 - val_r_square: 0.6108\n",
            "Epoch 82/100\n",
            "298/298 [==============================] - 1s 2ms/step - loss: 387638.0327 - r_square: 0.6158 - val_loss: 417341.6875 - val_r_square: 0.6108\n",
            "Epoch 83/100\n",
            "298/298 [==============================] - 1s 2ms/step - loss: 429255.8867 - r_square: 0.6273 - val_loss: 419128.0625 - val_r_square: 0.6091\n",
            "Epoch 84/100\n",
            "298/298 [==============================] - 1s 2ms/step - loss: 406217.7848 - r_square: 0.6435 - val_loss: 417057.0938 - val_r_square: 0.6111\n",
            "Epoch 85/100\n",
            "298/298 [==============================] - 1s 2ms/step - loss: 381810.3223 - r_square: 0.6631 - val_loss: 416996.1562 - val_r_square: 0.6111\n",
            "Epoch 86/100\n",
            "298/298 [==============================] - 1s 2ms/step - loss: 366200.5072 - r_square: 0.6645 - val_loss: 431221.5000 - val_r_square: 0.5978\n",
            "Epoch 87/100\n",
            "298/298 [==============================] - 1s 2ms/step - loss: 387720.0096 - r_square: 0.6402 - val_loss: 424584.2500 - val_r_square: 0.6040\n",
            "Epoch 88/100\n",
            "298/298 [==============================] - 1s 2ms/step - loss: 346087.5121 - r_square: 0.6472 - val_loss: 417192.4688 - val_r_square: 0.6109\n",
            "Epoch 89/100\n",
            "298/298 [==============================] - 1s 2ms/step - loss: 417562.3142 - r_square: 0.6380 - val_loss: 417215.1250 - val_r_square: 0.6109\n",
            "Epoch 90/100\n",
            "298/298 [==============================] - 1s 2ms/step - loss: 392553.0410 - r_square: 0.6357 - val_loss: 416650.5000 - val_r_square: 0.6114\n",
            "Epoch 91/100\n",
            "298/298 [==============================] - 1s 2ms/step - loss: 406402.0247 - r_square: 0.6058 - val_loss: 418061.1562 - val_r_square: 0.6101\n",
            "Epoch 92/100\n",
            "298/298 [==============================] - 1s 2ms/step - loss: 374242.3867 - r_square: 0.6455 - val_loss: 419779.0938 - val_r_square: 0.6085\n",
            "Epoch 93/100\n",
            "298/298 [==============================] - 1s 2ms/step - loss: 381628.1566 - r_square: 0.6674 - val_loss: 419076.2188 - val_r_square: 0.6092\n",
            "Epoch 94/100\n",
            "298/298 [==============================] - 1s 2ms/step - loss: 402536.9372 - r_square: 0.6559 - val_loss: 416959.8438 - val_r_square: 0.6111\n",
            "Epoch 95/100\n",
            "298/298 [==============================] - 1s 2ms/step - loss: 346523.8413 - r_square: 0.6259 - val_loss: 422850.1875 - val_r_square: 0.6057\n",
            "Epoch 96/100\n",
            "298/298 [==============================] - 1s 2ms/step - loss: 358290.5315 - r_square: 0.6532 - val_loss: 417213.9375 - val_r_square: 0.6109\n",
            "Epoch 97/100\n",
            "298/298 [==============================] - 1s 2ms/step - loss: 385865.3511 - r_square: 0.6401 - val_loss: 425256.9688 - val_r_square: 0.6034\n",
            "Epoch 98/100\n",
            "298/298 [==============================] - 1s 2ms/step - loss: 378805.6452 - r_square: 0.6297 - val_loss: 416004.8750 - val_r_square: 0.6120\n",
            "Epoch 99/100\n",
            "298/298 [==============================] - 1s 2ms/step - loss: 379786.8589 - r_square: 0.6461 - val_loss: 416438.6250 - val_r_square: 0.6116\n",
            "Epoch 100/100\n",
            "298/298 [==============================] - 1s 2ms/step - loss: 418975.2682 - r_square: 0.6374 - val_loss: 416032.0625 - val_r_square: 0.6120\n",
            "372/372 [==============================] - 0s 1ms/step - loss: 385732.6562 - r_square: 0.6436\n",
            "385732.65625 0.6435914635658264\n",
            "93/93 [==============================] - 0s 1ms/step - loss: 471786.2812 - r_square: 0.6199\n",
            "471786.28125 0.6198981404304504\n"
          ],
          "name": "stdout"
        }
      ]
    },
    {
      "cell_type": "markdown",
      "metadata": {
        "id": "G8nin8wFtb2R"
      },
      "source": [
        "He fet 100 epochs al Colab per a que no trigui tant la sortida, però crec que no calen més de 400, ja que la millora és poca."
      ]
    },
    {
      "cell_type": "code",
      "metadata": {
        "colab": {
          "base_uri": "https://localhost:8080/",
          "height": 290
        },
        "id": "RGYv6J2Stf5G",
        "outputId": "5b7f49fc-3760-4747-8bee-7f446d7f4b8e"
      },
      "source": [
        "import matplotlib.pyplot as plt\r\n",
        "\r\n",
        "def plot_loss(history):\r\n",
        "    plt.plot(history.history['loss'], label='loss')\r\n",
        "    if history.history.get('val_loss'):\r\n",
        "        plt.plot(history.history['val_loss'], label='val_loss')\r\n",
        "    plt.xlabel('Epoch')\r\n",
        "    plt.ylabel('Error')\r\n",
        "    plt.legend()\r\n",
        "    plt.grid(True)\r\n",
        "    plt.show()\r\n",
        "\r\n",
        "plot_loss(history)"
      ],
      "execution_count": null,
      "outputs": [
        {
          "output_type": "display_data",
          "data": {
            "image/png": "[encoded data removed]",
            "text/plain": [
              "<Figure size 432x288 with 1 Axes>"
            ]
          },
          "metadata": {
            "tags": [],
            "needs_background": "light"
          }
        }
      ]
    },
    {
      "cell_type": "markdown",
      "metadata": {
        "id": "0MNZBpJuuu3R"
      },
      "source": [
        "# Conclusió i next steps\r\n",
        "Amb una puntuació d'entre 0.65 ~ 0.70 el model és acceptable. <br>\r\n",
        "El següent pas seria guardar el model i programar una interfície on demanem les dades d'un apartament i li passem al model per a predir el preu."
      ]
    },
    {
      "cell_type": "markdown",
      "metadata": {
        "id": "WC-W5n6Ax9dw"
      },
      "source": [
        "# Webgrafia\r\n",
        "* https://github.com/aayzaa/barcelona_rental_prices_predictor - Repositori de referència.\r\n",
        "* https://www.tensorflow.org/tutorials/structured_data/feature_columns - Informació sobre bucketized columns.\r\n",
        "\r\n",
        "* https://www.tensorflow.org/tutorials/keras/save_and_load - Informació de com guardar i carregar el model.\r\n",
        "\r\n",
        "\r\n"
      ]
    }
  ]
}